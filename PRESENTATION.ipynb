{
 "cells": [
  {
   "cell_type": "code",
   "execution_count": 1,
   "id": "2f199c57",
   "metadata": {},
   "outputs": [],
   "source": [
    "import pandas as pd\n",
    "import numpy as np\n",
    "from lightgbm import LGBMClassifier\n",
    "import pickle\n",
    "import os\n",
    "from sklearn.linear_model import LogisticRegression\n",
    "import time\n",
    "import warnings\n",
    "warnings.simplefilter(action='ignore')\n",
    "warnings.filterwarnings(action='ignore')\n",
    "from greedy_selection import GreedySelector"
   ]
  },
  {
   "cell_type": "code",
   "execution_count": 2,
   "id": "25d8d887",
   "metadata": {},
   "outputs": [],
   "source": [
    "path = '/home/jovyan/Collection/Data/t_31_60/'"
   ]
  },
  {
   "cell_type": "code",
   "execution_count": 3,
   "id": "59cedceb",
   "metadata": {},
   "outputs": [],
   "source": [
    "with open(path + 'train_big1', 'rb') as f:\n",
    "    train = pickle.load(f)"
   ]
  },
  {
   "cell_type": "code",
   "execution_count": 4,
   "id": "9f2ebb13",
   "metadata": {},
   "outputs": [],
   "source": [
    "train = train[train.columns[:15]]"
   ]
  },
  {
   "cell_type": "code",
   "execution_count": 5,
   "id": "b2271d1d",
   "metadata": {},
   "outputs": [],
   "source": [
    "train.drop(columns='target_1', inplace=True)"
   ]
  },
  {
   "cell_type": "code",
   "execution_count": 6,
   "id": "cb53600d",
   "metadata": {},
   "outputs": [
    {
     "data": {
      "text/html": [
       "<div>\n",
       "<style scoped>\n",
       "    .dataframe tbody tr th:only-of-type {\n",
       "        vertical-align: middle;\n",
       "    }\n",
       "\n",
       "    .dataframe tbody tr th {\n",
       "        vertical-align: top;\n",
       "    }\n",
       "\n",
       "    .dataframe thead th {\n",
       "        text-align: right;\n",
       "    }\n",
       "</style>\n",
       "<table border=\"1\" class=\"dataframe\">\n",
       "  <thead>\n",
       "    <tr style=\"text-align: right;\">\n",
       "      <th></th>\n",
       "      <th>cnum</th>\n",
       "      <th>dt</th>\n",
       "      <th>target_6</th>\n",
       "      <th>overdue_principal</th>\n",
       "      <th>overdue_amount</th>\n",
       "      <th>current_outstanding</th>\n",
       "      <th>total_overdue_interest</th>\n",
       "      <th>pastdue_share</th>\n",
       "      <th>mwb</th>\n",
       "      <th>frec_k_mwb</th>\n",
       "      <th>all_calls_1_mon</th>\n",
       "      <th>max_call_duration_1_mon</th>\n",
       "      <th>contact_calls_1_mon</th>\n",
       "      <th>contact_rate_calls_1_mon</th>\n",
       "    </tr>\n",
       "  </thead>\n",
       "  <tbody>\n",
       "    <tr>\n",
       "      <th>0</th>\n",
       "      <td>00010067</td>\n",
       "      <td>2020-09-10</td>\n",
       "      <td>1.0</td>\n",
       "      <td>85627.18</td>\n",
       "      <td>118870.88</td>\n",
       "      <td>2043469.86</td>\n",
       "      <td>33243.70</td>\n",
       "      <td>0.058171</td>\n",
       "      <td>84.0</td>\n",
       "      <td>1.190476</td>\n",
       "      <td>54</td>\n",
       "      <td>181.0</td>\n",
       "      <td>11</td>\n",
       "      <td>0.203704</td>\n",
       "    </tr>\n",
       "    <tr>\n",
       "      <th>1</th>\n",
       "      <td>00010300</td>\n",
       "      <td>2020-01-16</td>\n",
       "      <td>0.0</td>\n",
       "      <td>39119.29</td>\n",
       "      <td>67277.42</td>\n",
       "      <td>1322366.69</td>\n",
       "      <td>28158.13</td>\n",
       "      <td>0.050877</td>\n",
       "      <td>121.0</td>\n",
       "      <td>43.801653</td>\n",
       "      <td>0</td>\n",
       "      <td>0.0</td>\n",
       "      <td>0</td>\n",
       "      <td>-1.000000</td>\n",
       "    </tr>\n",
       "    <tr>\n",
       "      <th>2</th>\n",
       "      <td>00010507</td>\n",
       "      <td>2020-08-28</td>\n",
       "      <td>1.0</td>\n",
       "      <td>12187.25</td>\n",
       "      <td>17093.88</td>\n",
       "      <td>112810.15</td>\n",
       "      <td>4906.63</td>\n",
       "      <td>0.151528</td>\n",
       "      <td>123.0</td>\n",
       "      <td>21.138211</td>\n",
       "      <td>150</td>\n",
       "      <td>276.0</td>\n",
       "      <td>7</td>\n",
       "      <td>0.046667</td>\n",
       "    </tr>\n",
       "    <tr>\n",
       "      <th>3</th>\n",
       "      <td>00010512</td>\n",
       "      <td>2020-08-20</td>\n",
       "      <td>0.0</td>\n",
       "      <td>291.73</td>\n",
       "      <td>306.08</td>\n",
       "      <td>138637.47</td>\n",
       "      <td>14.35</td>\n",
       "      <td>0.002208</td>\n",
       "      <td>122.0</td>\n",
       "      <td>6.557377</td>\n",
       "      <td>313</td>\n",
       "      <td>0.0</td>\n",
       "      <td>0</td>\n",
       "      <td>0.000000</td>\n",
       "    </tr>\n",
       "    <tr>\n",
       "      <th>4</th>\n",
       "      <td>00010640</td>\n",
       "      <td>2019-01-03</td>\n",
       "      <td>0.0</td>\n",
       "      <td>10926.40</td>\n",
       "      <td>17488.45</td>\n",
       "      <td>360523.16</td>\n",
       "      <td>6562.05</td>\n",
       "      <td>0.048509</td>\n",
       "      <td>56.0</td>\n",
       "      <td>14.285714</td>\n",
       "      <td>0</td>\n",
       "      <td>0.0</td>\n",
       "      <td>0</td>\n",
       "      <td>-1.000000</td>\n",
       "    </tr>\n",
       "    <tr>\n",
       "      <th>...</th>\n",
       "      <td>...</td>\n",
       "      <td>...</td>\n",
       "      <td>...</td>\n",
       "      <td>...</td>\n",
       "      <td>...</td>\n",
       "      <td>...</td>\n",
       "      <td>...</td>\n",
       "      <td>...</td>\n",
       "      <td>...</td>\n",
       "      <td>...</td>\n",
       "      <td>...</td>\n",
       "      <td>...</td>\n",
       "      <td>...</td>\n",
       "      <td>...</td>\n",
       "    </tr>\n",
       "    <tr>\n",
       "      <th>27665</th>\n",
       "      <td>06015497</td>\n",
       "      <td>2020-02-28</td>\n",
       "      <td>0.0</td>\n",
       "      <td>574930.22</td>\n",
       "      <td>697238.41</td>\n",
       "      <td>8038027.96</td>\n",
       "      <td>122308.19</td>\n",
       "      <td>0.086742</td>\n",
       "      <td>13.0</td>\n",
       "      <td>23.076923</td>\n",
       "      <td>0</td>\n",
       "      <td>0.0</td>\n",
       "      <td>0</td>\n",
       "      <td>-1.000000</td>\n",
       "    </tr>\n",
       "    <tr>\n",
       "      <th>27666</th>\n",
       "      <td>06016444</td>\n",
       "      <td>2019-11-15</td>\n",
       "      <td>0.0</td>\n",
       "      <td>378690.42</td>\n",
       "      <td>549971.18</td>\n",
       "      <td>7401423.58</td>\n",
       "      <td>171280.76</td>\n",
       "      <td>0.074306</td>\n",
       "      <td>8.0</td>\n",
       "      <td>50.000000</td>\n",
       "      <td>0</td>\n",
       "      <td>0.0</td>\n",
       "      <td>0</td>\n",
       "      <td>-1.000000</td>\n",
       "    </tr>\n",
       "    <tr>\n",
       "      <th>27667</th>\n",
       "      <td>06017959</td>\n",
       "      <td>2020-05-15</td>\n",
       "      <td>0.0</td>\n",
       "      <td>2611291.94</td>\n",
       "      <td>2705493.07</td>\n",
       "      <td>0.00</td>\n",
       "      <td>94201.13</td>\n",
       "      <td>1.000000</td>\n",
       "      <td>13.0</td>\n",
       "      <td>15.384615</td>\n",
       "      <td>0</td>\n",
       "      <td>0.0</td>\n",
       "      <td>0</td>\n",
       "      <td>-1.000000</td>\n",
       "    </tr>\n",
       "    <tr>\n",
       "      <th>27668</th>\n",
       "      <td>06019279</td>\n",
       "      <td>2020-12-18</td>\n",
       "      <td>0.0</td>\n",
       "      <td>1218793.89</td>\n",
       "      <td>1522965.41</td>\n",
       "      <td>11576108.68</td>\n",
       "      <td>304171.52</td>\n",
       "      <td>0.131561</td>\n",
       "      <td>20.0</td>\n",
       "      <td>25.000000</td>\n",
       "      <td>0</td>\n",
       "      <td>0.0</td>\n",
       "      <td>0</td>\n",
       "      <td>-1.000000</td>\n",
       "    </tr>\n",
       "    <tr>\n",
       "      <th>27669</th>\n",
       "      <td>06029701</td>\n",
       "      <td>2020-05-15</td>\n",
       "      <td>0.0</td>\n",
       "      <td>117106.24</td>\n",
       "      <td>150034.10</td>\n",
       "      <td>2937160.26</td>\n",
       "      <td>32927.86</td>\n",
       "      <td>0.051081</td>\n",
       "      <td>3.0</td>\n",
       "      <td>33.333333</td>\n",
       "      <td>0</td>\n",
       "      <td>0.0</td>\n",
       "      <td>0</td>\n",
       "      <td>-1.000000</td>\n",
       "    </tr>\n",
       "  </tbody>\n",
       "</table>\n",
       "<p>27670 rows × 14 columns</p>\n",
       "</div>"
      ],
      "text/plain": [
       "           cnum         dt  target_6  overdue_principal  overdue_amount  \\\n",
       "0      00010067 2020-09-10       1.0           85627.18       118870.88   \n",
       "1      00010300 2020-01-16       0.0           39119.29        67277.42   \n",
       "2      00010507 2020-08-28       1.0           12187.25        17093.88   \n",
       "3      00010512 2020-08-20       0.0             291.73          306.08   \n",
       "4      00010640 2019-01-03       0.0           10926.40        17488.45   \n",
       "...         ...        ...       ...                ...             ...   \n",
       "27665  06015497 2020-02-28       0.0          574930.22       697238.41   \n",
       "27666  06016444 2019-11-15       0.0          378690.42       549971.18   \n",
       "27667  06017959 2020-05-15       0.0         2611291.94      2705493.07   \n",
       "27668  06019279 2020-12-18       0.0         1218793.89      1522965.41   \n",
       "27669  06029701 2020-05-15       0.0          117106.24       150034.10   \n",
       "\n",
       "       current_outstanding  total_overdue_interest  pastdue_share    mwb  \\\n",
       "0               2043469.86                33243.70       0.058171   84.0   \n",
       "1               1322366.69                28158.13       0.050877  121.0   \n",
       "2                112810.15                 4906.63       0.151528  123.0   \n",
       "3                138637.47                   14.35       0.002208  122.0   \n",
       "4                360523.16                 6562.05       0.048509   56.0   \n",
       "...                    ...                     ...            ...    ...   \n",
       "27665           8038027.96               122308.19       0.086742   13.0   \n",
       "27666           7401423.58               171280.76       0.074306    8.0   \n",
       "27667                 0.00                94201.13       1.000000   13.0   \n",
       "27668          11576108.68               304171.52       0.131561   20.0   \n",
       "27669           2937160.26                32927.86       0.051081    3.0   \n",
       "\n",
       "       frec_k_mwb  all_calls_1_mon  max_call_duration_1_mon  \\\n",
       "0        1.190476               54                    181.0   \n",
       "1       43.801653                0                      0.0   \n",
       "2       21.138211              150                    276.0   \n",
       "3        6.557377              313                      0.0   \n",
       "4       14.285714                0                      0.0   \n",
       "...           ...              ...                      ...   \n",
       "27665   23.076923                0                      0.0   \n",
       "27666   50.000000                0                      0.0   \n",
       "27667   15.384615                0                      0.0   \n",
       "27668   25.000000                0                      0.0   \n",
       "27669   33.333333                0                      0.0   \n",
       "\n",
       "       contact_calls_1_mon  contact_rate_calls_1_mon  \n",
       "0                       11                  0.203704  \n",
       "1                        0                 -1.000000  \n",
       "2                        7                  0.046667  \n",
       "3                        0                  0.000000  \n",
       "4                        0                 -1.000000  \n",
       "...                    ...                       ...  \n",
       "27665                    0                 -1.000000  \n",
       "27666                    0                 -1.000000  \n",
       "27667                    0                 -1.000000  \n",
       "27668                    0                 -1.000000  \n",
       "27669                    0                 -1.000000  \n",
       "\n",
       "[27670 rows x 14 columns]"
      ]
     },
     "execution_count": 6,
     "metadata": {},
     "output_type": "execute_result"
    }
   ],
   "source": [
    "train"
   ]
  },
  {
   "cell_type": "code",
   "execution_count": 7,
   "id": "2bea4464",
   "metadata": {},
   "outputs": [],
   "source": [
    "features = train.drop(columns=['cnum', 'dt', 'target_6']).columns.tolist()"
   ]
  },
  {
   "cell_type": "code",
   "execution_count": 8,
   "id": "c6f12f3a",
   "metadata": {},
   "outputs": [
    {
     "data": {
      "text/plain": [
       "['overdue_principal',\n",
       " 'overdue_amount',\n",
       " 'current_outstanding',\n",
       " 'total_overdue_interest',\n",
       " 'pastdue_share',\n",
       " 'mwb',\n",
       " 'frec_k_mwb',\n",
       " 'all_calls_1_mon',\n",
       " 'max_call_duration_1_mon',\n",
       " 'contact_calls_1_mon',\n",
       " 'contact_rate_calls_1_mon']"
      ]
     },
     "execution_count": 8,
     "metadata": {},
     "output_type": "execute_result"
    }
   ],
   "source": [
    "features"
   ]
  },
  {
   "cell_type": "code",
   "execution_count": 9,
   "id": "8abf192d",
   "metadata": {},
   "outputs": [],
   "source": [
    "model = LogisticRegression(random_state=84)"
   ]
  },
  {
   "cell_type": "code",
   "execution_count": 10,
   "id": "cd39f93e",
   "metadata": {},
   "outputs": [],
   "source": [
    "def my_metric(y_true, y_pred):\n",
    "    return -1 + 2*roc_auc_score(y_true, y_pred)"
   ]
  },
  {
   "cell_type": "code",
   "execution_count": 12,
   "id": "678a15cc",
   "metadata": {},
   "outputs": [
    {
     "name": "stdout",
     "output_type": "stream",
     "text": [
      "Всего признаков - 11\n"
     ]
    },
    {
     "data": {
      "application/vnd.jupyter.widget-view+json": {
       "model_id": "755e9e0ed3a54656b8560ac3c7ba6020",
       "version_major": 2,
       "version_minor": 0
      },
      "text/plain": [
       "  0%|          | 0/11 [00:00<?, ?it/s]"
      ]
     },
     "metadata": {},
     "output_type": "display_data"
    },
    {
     "name": "stdout",
     "output_type": "stream",
     "text": [
      "Уже отобрано признаков - 0 \n",
      "\n"
     ]
    },
    {
     "data": {
      "application/vnd.jupyter.widget-view+json": {
       "model_id": "9319357ce1ca4a298cb23b86f9ded07a",
       "version_major": 2,
       "version_minor": 0
      },
      "text/plain": [
       "  0%|          | 0/11 [00:00<?, ?it/s]"
      ]
     },
     "metadata": {},
     "output_type": "display_data"
    },
    {
     "name": "stdout",
     "output_type": "stream",
     "text": [
      "============================================================= \n",
      " Отобранные признаки: ['overdue_principal'] \n",
      " Метрика качества на обучающей выборке: 0.4196759244533106 \n",
      " =============================================================\n",
      "Уже отобрано признаков - 1 \n",
      "\n"
     ]
    },
    {
     "data": {
      "application/vnd.jupyter.widget-view+json": {
       "model_id": "d505264fdbf246f2a24e6d485ecac5fa",
       "version_major": 2,
       "version_minor": 0
      },
      "text/plain": [
       "  0%|          | 0/10 [00:00<?, ?it/s]"
      ]
     },
     "metadata": {},
     "output_type": "display_data"
    },
    {
     "name": "stdout",
     "output_type": "stream",
     "text": [
      "============================================================= \n",
      " Отобранные признаки: ['overdue_principal', 'current_outstanding'] \n",
      " Метрика качества на обучающей выборке: 0.42137010546788023 \n",
      " =============================================================\n",
      "Уже отобрано признаков - 2 \n",
      "\n"
     ]
    },
    {
     "data": {
      "application/vnd.jupyter.widget-view+json": {
       "model_id": "dd79fa191fe64aef8895d4b0dcbd5d7c",
       "version_major": 2,
       "version_minor": 0
      },
      "text/plain": [
       "  0%|          | 0/9 [00:00<?, ?it/s]"
      ]
     },
     "metadata": {},
     "output_type": "display_data"
    },
    {
     "name": "stdout",
     "output_type": "stream",
     "text": [
      "Метрика качества больше не улучшается. Все посчиталось. Поздравляю!\n"
     ]
    }
   ],
   "source": [
    "new_model = GreedySelector(X=train[features + ['cnum']],\n",
    "                           y=train['target_6'],\n",
    "                           n_jobs=-1,\n",
    "                           improvement=0.001,\n",
    "                           group_field='cnum',\n",
    "                            model=model,                           \n",
    "                           name='presentation_model')"
   ]
  },
  {
   "cell_type": "code",
   "execution_count": null,
   "id": "7028354c",
   "metadata": {},
   "outputs": [],
   "source": []
  }
 ],
 "metadata": {
  "kernelspec": {
   "display_name": "Python 3 (ipykernel)",
   "language": "python",
   "name": "python3"
  },
  "language_info": {
   "codemirror_mode": {
    "name": "ipython",
    "version": 3
   },
   "file_extension": ".py",
   "mimetype": "text/x-python",
   "name": "python",
   "nbconvert_exporter": "python",
   "pygments_lexer": "ipython3",
   "version": "3.9.6"
  }
 },
 "nbformat": 4,
 "nbformat_minor": 5
}
