{
 "cells": [
  {
   "cell_type": "code",
   "execution_count": 88,
   "id": "da07521d",
   "metadata": {},
   "outputs": [],
   "source": [
    "import pandas as pd\n",
    "import numpy as np\n",
    "import re\n",
    "import spacy\n",
    "import ru_core_news_lg\n",
    "nlp = ru_core_news_lg.load()"
   ]
  },
  {
   "cell_type": "code",
   "execution_count": 91,
   "id": "63f9ea21",
   "metadata": {},
   "outputs": [],
   "source": [
    "def make_clean(txt):\n",
    "    txt = txt.lower()\n",
    "    \n",
    "    pattern = re.compile(r'[\\d$#№!?,.@_:;()\\+\\*\"%\\\\/-]')\n",
    "    txt = re.sub(pattern, ' ', txt)\n",
    "    \n",
    "    pattern_eng = re.compile('[a-z]')\n",
    "    txt = re.sub(pattern_eng, ' ', txt)    \n",
    "    \n",
    "    txt = txt.replace('\\n',' ')\n",
    "    txt = txt.replace('\\r',' ')       \n",
    "    txt = txt.replace('\\t',' ')\n",
    "    \n",
    "    while '  ' in txt:\n",
    "        txt = txt.replace('  ',' ')\n",
    "        \n",
    "    txt = txt.rstrip()\n",
    "    txt = txt.lstrip()\n",
    "        \n",
    "    return txt"
   ]
  },
  {
   "cell_type": "code",
   "execution_count": 93,
   "id": "0fa98a91",
   "metadata": {},
   "outputs": [],
   "source": [
    "# Word2Vec"
   ]
  },
  {
   "cell_type": "code",
   "execution_count": 94,
   "id": "36294b9c",
   "metadata": {},
   "outputs": [
    {
     "data": {
      "text/plain": [
       "['личный', 'средства', 'предпринимателя', 'без', 'ндс']"
      ]
     },
     "execution_count": 94,
     "metadata": {},
     "output_type": "execute_result"
    }
   ],
   "source": [
    "import gensim\n",
    "gensim.utils.simple_preprocess(transacts['v_payment_desc'][100])"
   ]
  },
  {
   "cell_type": "code",
   "execution_count": 95,
   "id": "04b67562",
   "metadata": {},
   "outputs": [],
   "source": [
    "#transacts.v_payment_desc.apply(gensim.utils.simple_preprocess)"
   ]
  },
  {
   "cell_type": "code",
   "execution_count": 96,
   "id": "778326b8",
   "metadata": {},
   "outputs": [],
   "source": [
    "full_list = []\n",
    "for i in range(len(transacts)):\n",
    "    full_list.append([token.lemma_ for token in nlp(transacts['full_description'][i]) if not token.is_stop and len(token.lemma_)>3]) "
   ]
  },
  {
   "cell_type": "code",
   "execution_count": 97,
   "id": "096c6275",
   "metadata": {},
   "outputs": [
    {
     "name": "stdout",
     "output_type": "stream",
     "text": [
      "1074286\n"
     ]
    }
   ],
   "source": [
    "print(len(full_list))"
   ]
  },
  {
   "cell_type": "code",
   "execution_count": 98,
   "id": "6f185c52",
   "metadata": {},
   "outputs": [],
   "source": [
    "import gensim.models"
   ]
  },
  {
   "cell_type": "code",
   "execution_count": 99,
   "id": "c3dae29b",
   "metadata": {},
   "outputs": [],
   "source": [
    "model = gensim.models.Word2Vec(sentences=full_list, min_count=2, window=3, vector_size=100, sg=1, seed=42, compute_loss=True)"
   ]
  },
  {
   "cell_type": "code",
   "execution_count": 100,
   "id": "e4ea596c",
   "metadata": {},
   "outputs": [
    {
     "data": {
      "text/plain": [
       "1074286"
      ]
     },
     "execution_count": 100,
     "metadata": {},
     "output_type": "execute_result"
    }
   ],
   "source": [
    "model.corpus_count"
   ]
  },
  {
   "cell_type": "code",
   "execution_count": 101,
   "id": "b0c0669d",
   "metadata": {},
   "outputs": [
    {
     "data": {
      "text/plain": [
       "array([ 0.16364707,  0.26361158, -0.22940241, -0.41586262,  0.39979815,\n",
       "        0.08066381,  0.3106773 ,  0.7670577 , -0.4613791 , -0.09823401,\n",
       "        0.70756084,  0.19681834,  0.5485931 , -0.2562328 , -0.12064777,\n",
       "       -0.44429082,  0.639027  , -0.22210835, -0.11405789, -0.16706844,\n",
       "        0.5023008 , -0.07339681,  0.4396937 ,  0.8064233 ,  0.5021427 ,\n",
       "        0.9570349 ,  0.37244862,  0.74582034, -0.7722286 , -0.96683127,\n",
       "        0.15446855,  0.15104489, -1.0382084 ,  0.09913738,  0.39783874,\n",
       "       -0.09797168,  0.9587439 , -0.38797367, -0.11883784,  0.71954495,\n",
       "       -0.18509045, -0.41101345, -0.6773648 , -0.63847566,  1.3858399 ,\n",
       "       -0.68820626, -0.01351582,  0.8965673 , -0.06887279,  0.24098001,\n",
       "       -0.90315866, -0.73267025,  0.76434803, -0.22466543, -0.01956002,\n",
       "       -0.07030944,  0.60606587, -0.5634238 , -0.48285475, -0.19561243,\n",
       "        0.7169033 ,  0.4050764 , -0.80906034,  0.45216104,  0.4840323 ,\n",
       "        0.30793086, -0.4813744 , -1.0406488 ,  0.75555736,  0.26255018,\n",
       "        1.281767  , -0.20705546,  0.01807585, -0.5078071 ,  0.17462502,\n",
       "       -0.2841046 , -0.6338836 , -0.34128454,  0.08008754,  0.0267883 ,\n",
       "        0.18700986,  0.12692784,  0.32044506,  0.10828809, -0.79056364,\n",
       "        1.2016956 ,  0.7053527 ,  0.47360507,  0.45992488,  0.16311291,\n",
       "        0.40221307, -0.05048028,  0.14045513,  0.35982284, -0.53374726,\n",
       "        0.3198352 , -0.76155865, -0.09093536, -0.10598712, -0.00307089],\n",
       "      dtype=float32)"
      ]
     },
     "execution_count": 101,
     "metadata": {},
     "output_type": "execute_result"
    }
   ],
   "source": [
    "model.wv['погашение']"
   ]
  },
  {
   "cell_type": "code",
   "execution_count": 102,
   "id": "f1dedf12",
   "metadata": {},
   "outputs": [
    {
     "data": {
      "text/plain": [
       "[('отпускные', 0.6796675324440002),\n",
       " ('махамат', 0.657871663570404),\n",
       " ('половина', 0.6507164239883423),\n",
       " ('отпускных', 0.6471732258796692),\n",
       " ('мусса', 0.6433866620063782),\n",
       " ('тахир', 0.6424691677093506),\n",
       " ('федякин', 0.6381070613861084),\n",
       " ('аморозо', 0.6332544088363647),\n",
       " ('полностью', 0.6307960152626038),\n",
       " ('отпускной', 0.6301730871200562)]"
      ]
     },
     "execution_count": 102,
     "metadata": {},
     "output_type": "execute_result"
    }
   ],
   "source": [
    "model.wv.most_similar('зарплата')"
   ]
  },
  {
   "cell_type": "code",
   "execution_count": 103,
   "id": "c9ca5708",
   "metadata": {},
   "outputs": [
    {
     "data": {
      "text/plain": [
       "0.55344003"
      ]
     },
     "execution_count": 103,
     "metadata": {},
     "output_type": "execute_result"
    }
   ],
   "source": [
    "model.wv.similarity(w1='средство', w2='личный')"
   ]
  },
  {
   "cell_type": "code",
   "execution_count": 104,
   "id": "9fba1572",
   "metadata": {},
   "outputs": [],
   "source": [
    "from gensim.models import KeyedVectors\n",
    "\n",
    "word_vectors = model.wv\n",
    "word_vectors.save(\"word2vec.wordvectors\")\n",
    "\n",
    "wv = KeyedVectors.load(\"word2vec.wordvectors\", mmap='r')\n",
    "vector = wv['погашение']"
   ]
  },
  {
   "cell_type": "code",
   "execution_count": 105,
   "id": "ad5855dc",
   "metadata": {},
   "outputs": [
    {
     "data": {
      "text/plain": [
       "array([ 0.16364707,  0.26361158, -0.22940241, -0.41586262,  0.39979815,\n",
       "        0.08066381,  0.3106773 ,  0.7670577 , -0.4613791 , -0.09823401,\n",
       "        0.70756084,  0.19681834,  0.5485931 , -0.2562328 , -0.12064777,\n",
       "       -0.44429082,  0.639027  , -0.22210835, -0.11405789, -0.16706844,\n",
       "        0.5023008 , -0.07339681,  0.4396937 ,  0.8064233 ,  0.5021427 ,\n",
       "        0.9570349 ,  0.37244862,  0.74582034, -0.7722286 , -0.96683127,\n",
       "        0.15446855,  0.15104489, -1.0382084 ,  0.09913738,  0.39783874,\n",
       "       -0.09797168,  0.9587439 , -0.38797367, -0.11883784,  0.71954495,\n",
       "       -0.18509045, -0.41101345, -0.6773648 , -0.63847566,  1.3858399 ,\n",
       "       -0.68820626, -0.01351582,  0.8965673 , -0.06887279,  0.24098001,\n",
       "       -0.90315866, -0.73267025,  0.76434803, -0.22466543, -0.01956002,\n",
       "       -0.07030944,  0.60606587, -0.5634238 , -0.48285475, -0.19561243,\n",
       "        0.7169033 ,  0.4050764 , -0.80906034,  0.45216104,  0.4840323 ,\n",
       "        0.30793086, -0.4813744 , -1.0406488 ,  0.75555736,  0.26255018,\n",
       "        1.281767  , -0.20705546,  0.01807585, -0.5078071 ,  0.17462502,\n",
       "       -0.2841046 , -0.6338836 , -0.34128454,  0.08008754,  0.0267883 ,\n",
       "        0.18700986,  0.12692784,  0.32044506,  0.10828809, -0.79056364,\n",
       "        1.2016956 ,  0.7053527 ,  0.47360507,  0.45992488,  0.16311291,\n",
       "        0.40221307, -0.05048028,  0.14045513,  0.35982284, -0.53374726,\n",
       "        0.3198352 , -0.76155865, -0.09093536, -0.10598712, -0.00307089],\n",
       "      dtype=float32)"
      ]
     },
     "execution_count": 105,
     "metadata": {},
     "output_type": "execute_result"
    }
   ],
   "source": [
    "vector"
   ]
  },
  {
   "cell_type": "code",
   "execution_count": 106,
   "id": "1b3f50f0",
   "metadata": {},
   "outputs": [],
   "source": [
    "#GloVe"
   ]
  },
  {
   "cell_type": "code",
   "execution_count": 87,
   "id": "f38eabe9",
   "metadata": {},
   "outputs": [],
   "source": [
    "#!pip install glove_python"
   ]
  },
  {
   "cell_type": "code",
   "execution_count": null,
   "id": "94982ee2",
   "metadata": {},
   "outputs": [],
   "source": [
    "from glove import Corpus, Glove\n",
    "\n",
    "\n",
    "corpus = Corpus()\n",
    "corpus.fit(full_list, window=10)\n",
    "\n",
    "glove = Glove(learning_rate=0.05)\n",
    "glove.fit(corpus.matrix, epochs=30)\n",
    "glove.add_dictionary(corpus.dictionary)"
   ]
  },
  {
   "cell_type": "code",
   "execution_count": 107,
   "id": "28a5c737",
   "metadata": {},
   "outputs": [
    {
     "name": "stdout",
     "output_type": "stream",
     "text": [
      "дебетовые vector:  False OOV:  True\n",
      "операции vector:  True OOV:  False\n",
      "по vector:  True OOV:  False\n",
      "пластиковым vector:  True OOV:  False\n",
      "картам vector:  True OOV:  False\n",
      "мир vector:  True OOV:  False\n",
      "клиентов vector:  True OOV:  False\n",
      "банка vector:  True OOV:  False\n",
      "в vector:  True OOV:  False\n",
      "устройствах vector:  True OOV:  False\n",
      "сторонних vector:  True OOV:  False\n",
      "банков vector:  True OOV:  False\n"
     ]
    }
   ],
   "source": [
    "txt = nlp(transacts['full_description'][10])\n",
    "\n",
    "for token in nlp(txt):\n",
    "    print(token, \"vector: \", token.has_vector, \"OOV: \", token.is_oov)"
   ]
  },
  {
   "cell_type": "code",
   "execution_count": 119,
   "id": "a2f75129",
   "metadata": {},
   "outputs": [
    {
     "name": "stdout",
     "output_type": "stream",
     "text": [
      "операции  |  0.25299376946849433\n",
      "по  |  0.10214186284249434\n",
      "пластиковым  |  -0.024998980841946745\n",
      "картам  |  0.12871489737170375\n",
      "мир  |  0.09037674365518401\n",
      "клиентов  |  0.33366377791687085\n",
      "банка  |  0.599426025213813\n",
      "в  |  0.17035344045835563\n",
      "устройствах  |  -0.013292893457194085\n",
      "сторонних  |  0.09605180191065005\n",
      "банков  |  0.5947529985119299\n"
     ]
    }
   ],
   "source": [
    "base_token = nlp(\"банк\")\n",
    "\n",
    "for token in txt:\n",
    "    if token.has_vector:\n",
    "        print(token, ' | ', token.similarity(base_token))"
   ]
  },
  {
   "cell_type": "code",
   "execution_count": 77,
   "id": "825e1996",
   "metadata": {},
   "outputs": [],
   "source": [
    "#FastText"
   ]
  },
  {
   "cell_type": "code",
   "execution_count": 109,
   "id": "dd67a404",
   "metadata": {},
   "outputs": [
    {
     "name": "stdout",
     "output_type": "stream",
     "text": [
      "Looking in indexes: https://artifactory.intranet/artifactory/api/pypi/pypi/simple\r\n",
      "Requirement already satisfied: fasttext in /opt/conda/lib/python3.9/site-packages (0.9.2)\r\n",
      "Requirement already satisfied: setuptools>=0.7.0 in /opt/conda/lib/python3.9/site-packages (from fasttext) (49.6.0.post20210108)\r\n",
      "Requirement already satisfied: pybind11>=2.2 in /opt/conda/lib/python3.9/site-packages (from fasttext) (2.7.1)\r\n",
      "Requirement already satisfied: numpy in /opt/conda/lib/python3.9/site-packages (from fasttext) (1.21.2)\r\n"
     ]
    }
   ],
   "source": [
    "#!pip install fasttext\n",
    "#import fasttext"
   ]
  },
  {
   "cell_type": "code",
   "execution_count": 110,
   "id": "5d447091",
   "metadata": {},
   "outputs": [],
   "source": [
    "def make_lemma(txt):\n",
    "    \n",
    "    txt = nlp(txt)\n",
    "    txt_new = [token.lemma_ for token in txt if not token.is_stop and not token.is_punct and len(token)>3]\n",
    "    txt = ' '.join(txt_new)\n",
    "    return txt"
   ]
  },
  {
   "cell_type": "code",
   "execution_count": 111,
   "id": "b1a85171",
   "metadata": {},
   "outputs": [],
   "source": [
    "transacts['lemma_description'] = transacts['full_description'].apply(lambda x: make_lemma(x))"
   ]
  },
  {
   "cell_type": "code",
   "execution_count": 112,
   "id": "da085690",
   "metadata": {},
   "outputs": [],
   "source": [
    "transacts['lemma_description'].to_csv('transacts.txt', header=False, index=False, sep='\\t')"
   ]
  },
  {
   "cell_type": "code",
   "execution_count": 113,
   "id": "7868a7b6",
   "metadata": {
    "collapsed": true
   },
   "outputs": [
    {
     "name": "stderr",
     "output_type": "stream",
     "text": [
      "Read 8M words\n",
      "Number of words:  7003\n",
      "Number of labels: 0\n",
      "Progress: 100.0% words/sec/thread:   72885 lr:  0.000000 avg.loss:  0.923903 ETA:   0h 0m 0s\n"
     ]
    }
   ],
   "source": [
    "#векторное представление слов\n",
    "model = fasttext.train_unsupervised(input='transacts.txt', epoch=20, model='skipgram')"
   ]
  },
  {
   "cell_type": "code",
   "execution_count": 114,
   "id": "de271f98",
   "metadata": {
    "scrolled": true
   },
   "outputs": [
    {
     "data": {
      "text/plain": [
       "[(0.8517051339149475, 'устройство'),\n",
       " (0.8508301973342896, 'сторонний'),\n",
       " (0.8411794304847717, 'дебетовый'),\n",
       " (0.8209928870201111, 'кредитовый'),\n",
       " (0.8138197064399719, 'пластиковый'),\n",
       " (0.7710592746734619, 'клиент'),\n",
       " (0.7244216799736023, 'карта'),\n",
       " (0.7179813385009766, 'операция'),\n",
       " (0.6684747338294983, 'зачёт'),\n",
       " (0.6643556356430054, 'нбанк')]"
      ]
     },
     "execution_count": 114,
     "metadata": {},
     "output_type": "execute_result"
    }
   ],
   "source": [
    "model.get_nearest_neighbors(\"банк\")"
   ]
  },
  {
   "cell_type": "code",
   "execution_count": 118,
   "id": "db8c0030",
   "metadata": {
    "collapsed": true
   },
   "outputs": [
    {
     "name": "stderr",
     "output_type": "stream",
     "text": [
      "Read 8M words\n",
      "Number of words:  7003\n",
      "Number of labels: 0\n",
      "Progress: 100.0% words/sec/thread:   59581 lr:  0.000000 avg.loss:  0.950857 ETA:   0h 0m 0s 86.7% words/sec/thread:   62242 lr:  0.006667 avg.loss:  0.832415 ETA:   0h 0m 4s 0s\n"
     ]
    }
   ],
   "source": [
    "#векторное представление слов c ngramms\n",
    "model = fasttext.train_unsupervised(input='transacts.txt', epoch=20, minn=2, maxn=5)"
   ]
  },
  {
   "cell_type": "code",
   "execution_count": 117,
   "id": "93ed1e67",
   "metadata": {},
   "outputs": [
    {
     "data": {
      "text/plain": [
       "[(0.8055684566497803, 'баня'),\n",
       " (0.7657368183135986, 'банк'),\n",
       " (0.7204897999763489, 'дебетовый'),\n",
       " (0.7090697884559631, 'сторонний'),\n",
       " (0.7076113820075989, 'терминал'),\n",
       " (0.7041202783584595, 'кредитовый'),\n",
       " (0.6998031139373779, 'банка'),\n",
       " (0.6928038001060486, 'устройство'),\n",
       " (0.6862907409667969, 'штуцер'),\n",
       " (0.6742855310440063, 'агатовый')]"
      ]
     },
     "execution_count": 117,
     "metadata": {},
     "output_type": "execute_result"
    }
   ],
   "source": [
    "model.get_nearest_neighbors(\"банк\")"
   ]
  }
 ],
 "metadata": {
  "kernelspec": {
   "display_name": "Python 3 (ipykernel)",
   "language": "python",
   "name": "python3"
  },
  "language_info": {
   "codemirror_mode": {
    "name": "ipython",
    "version": 3
   },
   "file_extension": ".py",
   "mimetype": "text/x-python",
   "name": "python",
   "nbconvert_exporter": "python",
   "pygments_lexer": "ipython3",
   "version": "3.10.9"
  }
 },
 "nbformat": 4,
 "nbformat_minor": 5
}
